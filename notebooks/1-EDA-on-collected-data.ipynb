{
 "cells": [
  {
   "cell_type": "code",
   "execution_count": null,
   "id": "29e6d957",
   "metadata": {},
   "outputs": [],
   "source": [
    "import sys\n",
    "import os\n",
    "sys.path.append(os.path.abspath(\"..\"))\n",
    "\n",
    "import tensorflow as tf\n",
    "from tensorflow.keras.applications import ResNet50\n",
    "from tensorflow.keras import layers, models, optimizers\n",
    "\n",
    "from scripts.dataPreprocessingPipeline import load_images_for_resnet, unlabeled_image_generator\n",
    "from scripts.pseudoLabeling import active_semi_sumpervised_learning\n",
    "from scripts.showImage import show_image, show_images"
   ]
  },
  {
   "cell_type": "code",
   "execution_count": null,
   "id": "2fe82664",
   "metadata": {},
   "outputs": [],
   "source": [
    "X_labeled, y_labeled, labels_list = load_images_for_resnet(\"../data/labeled\")\n",
    "show_images(X_labeled[:5])"
   ]
  },
  {
   "cell_type": "code",
   "execution_count": null,
   "id": "683c34c5",
   "metadata": {},
   "outputs": [],
   "source": [
    "model = ResNet50(\n",
    "    weights='imagenet',\n",
    "    include_top=False,\n",
    "    input_shape=(224, 224, 3)\n",
    ")\n",
    "\n",
    "model.trainable = False"
   ]
  },
  {
   "cell_type": "code",
   "execution_count": null,
   "id": "fc84ce5c",
   "metadata": {},
   "outputs": [],
   "source": [
    "NUM_CLASSES = len(labels_list)\n",
    "\n",
    "new_model = models.Sequential([\n",
    "    model,\n",
    "    layers.GlobalAveragePooling2D(),\n",
    "    layers.Dense(256, activation='relu'),\n",
    "    layers.Dropout(0.5),\n",
    "    layers.Dense(NUM_CLASSES, activation='softmax')\n",
    "])"
   ]
  },
  {
   "cell_type": "code",
   "execution_count": null,
   "id": "7dd4908f",
   "metadata": {},
   "outputs": [],
   "source": [
    "new_model.compile(\n",
    "    optimizer=optimizers.Adam(learning_rate=1e-4),\n",
    "    loss='categorical_crossentropy',\n",
    "    metrics=['accuracy']\n",
    ")"
   ]
  },
  {
   "cell_type": "code",
   "execution_count": null,
   "id": "5965020a",
   "metadata": {},
   "outputs": [],
   "source": [
    "history = new_model.fit(\n",
    "    X_labeled, y_labeled,\n",
    "    batch_size=32,\n",
    "    epochs=18,\n",
    "    validation_split=0.2,\n",
    "    shuffle=True\n",
    ")"
   ]
  },
  {
   "cell_type": "markdown",
   "id": "7250e61d",
   "metadata": {},
   "source": [
    "Now to semi-supervised + Active Learning part!"
   ]
  },
  {
   "cell_type": "code",
   "execution_count": null,
   "id": "2209fbb8",
   "metadata": {},
   "outputs": [],
   "source": [
    "unlabeled_dataset = tf.data.Dataset.from_generator(\n",
    "    lambda: unlabeled_image_generator(\"../data/unlabeled\", batch_size=32),\n",
    "    output_signature=(\n",
    "        tf.TensorSpec(shape=(None,224,224,3), dtype=tf.float32),\n",
    "        tf.TensorSpec(shape=(None,), dtype=tf.string)\n",
    "    )\n",
    ")\n"
   ]
  },
  {
   "cell_type": "code",
   "execution_count": null,
   "id": "1b5adebb",
   "metadata": {},
   "outputs": [],
   "source": [
    "pseudo_X, pseudo_y, manual_X, manual_y = active_semi_sumpervised_learning(\n",
    "    new_model,\n",
    "    unlabeled_dataset,\n",
    "    threshold=0.9,\n",
    "    batch_size=32,\n",
    ")"
   ]
  }
 ],
 "metadata": {
  "kernelspec": {
   "display_name": ".venv",
   "language": "python",
   "name": "python3"
  },
  "language_info": {
   "codemirror_mode": {
    "name": "ipython",
    "version": 3
   },
   "file_extension": ".py",
   "mimetype": "text/x-python",
   "name": "python",
   "nbconvert_exporter": "python",
   "pygments_lexer": "ipython3",
   "version": "3.13.7"
  }
 },
 "nbformat": 4,
 "nbformat_minor": 5
}
