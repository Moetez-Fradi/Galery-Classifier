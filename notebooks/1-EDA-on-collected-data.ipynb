{
 "cells": [
  {
   "cell_type": "code",
   "execution_count": null,
   "id": "29e6d957",
   "metadata": {},
   "outputs": [],
   "source": [
    "import sys\n",
    "import os\n",
    "sys.path.append(os.path.abspath(\"..\"))"
   ]
  },
  {
   "cell_type": "code",
   "execution_count": null,
   "id": "427921a2",
   "metadata": {},
   "outputs": [],
   "source": [
    "from IPython.display import display\n",
    "from scripts.dataPreprocessingPipeline import load_images_from_directory"
   ]
  },
  {
   "cell_type": "code",
   "execution_count": null,
   "id": "2fe82664",
   "metadata": {},
   "outputs": [],
   "source": [
    "images = load_images_from_directory(\"../data/labeled/Monuments-Animals\")\n",
    "display(images[0])"
   ]
  }
 ],
 "metadata": {
  "kernelspec": {
   "display_name": ".venv",
   "language": "python",
   "name": "python3"
  },
  "language_info": {
   "codemirror_mode": {
    "name": "ipython",
    "version": 3
   },
   "file_extension": ".py",
   "mimetype": "text/x-python",
   "name": "python",
   "nbconvert_exporter": "python",
   "pygments_lexer": "ipython3",
   "version": "3.13.7"
  }
 },
 "nbformat": 4,
 "nbformat_minor": 5
}
